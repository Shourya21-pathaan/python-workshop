{
 "cells": [
  {
   "cell_type": "code",
   "execution_count": 8,
   "id": "28c9b6a6-36e6-4a80-845f-e37ecb3aacd5",
   "metadata": {},
   "outputs": [],
   "source": [
    "import pandas as pd\n"
   ]
  },
  {
   "cell_type": "code",
   "execution_count": 10,
   "id": "683995df-7457-4fed-97e9-55304f85da4b",
   "metadata": {},
   "outputs": [],
   "source": [
    "df=pd.read_csv('Employers_data.csv')"
   ]
  },
  {
   "cell_type": "code",
   "execution_count": null,
   "id": "5725035b-263c-44d9-986f-a40a2b6fb6ef",
   "metadata": {},
   "outputs": [],
   "source": []
  },
  {
   "cell_type": "code",
   "execution_count": 13,
   "id": "2ebe312d-6caa-4bd3-9690-10386d6b2303",
   "metadata": {},
   "outputs": [
    {
     "data": {
      "text/html": [
       "<div>\n",
       "<style scoped>\n",
       "    .dataframe tbody tr th:only-of-type {\n",
       "        vertical-align: middle;\n",
       "    }\n",
       "\n",
       "    .dataframe tbody tr th {\n",
       "        vertical-align: top;\n",
       "    }\n",
       "\n",
       "    .dataframe thead th {\n",
       "        text-align: right;\n",
       "    }\n",
       "</style>\n",
       "<table border=\"1\" class=\"dataframe\">\n",
       "  <thead>\n",
       "    <tr style=\"text-align: right;\">\n",
       "      <th></th>\n",
       "      <th>Employee_ID</th>\n",
       "      <th>Name</th>\n",
       "      <th>Age</th>\n",
       "      <th>Gender</th>\n",
       "      <th>Department</th>\n",
       "      <th>Job_Title</th>\n",
       "      <th>Experience_Years</th>\n",
       "      <th>Education_Level</th>\n",
       "      <th>Location</th>\n",
       "      <th>Salary</th>\n",
       "    </tr>\n",
       "  </thead>\n",
       "  <tbody>\n",
       "    <tr>\n",
       "      <th>0</th>\n",
       "      <td>1</td>\n",
       "      <td>Merle Ingram</td>\n",
       "      <td>24</td>\n",
       "      <td>Female</td>\n",
       "      <td>Engineering</td>\n",
       "      <td>Engineer</td>\n",
       "      <td>1</td>\n",
       "      <td>Master</td>\n",
       "      <td>Austin</td>\n",
       "      <td>90000</td>\n",
       "    </tr>\n",
       "    <tr>\n",
       "      <th>1</th>\n",
       "      <td>2</td>\n",
       "      <td>John Mayes</td>\n",
       "      <td>56</td>\n",
       "      <td>Male</td>\n",
       "      <td>Sales</td>\n",
       "      <td>Executive</td>\n",
       "      <td>33</td>\n",
       "      <td>Master</td>\n",
       "      <td>Seattle</td>\n",
       "      <td>195000</td>\n",
       "    </tr>\n",
       "    <tr>\n",
       "      <th>2</th>\n",
       "      <td>3</td>\n",
       "      <td>Carlos Wille</td>\n",
       "      <td>21</td>\n",
       "      <td>Male</td>\n",
       "      <td>Engineering</td>\n",
       "      <td>Intern</td>\n",
       "      <td>1</td>\n",
       "      <td>Bachelor</td>\n",
       "      <td>New York</td>\n",
       "      <td>35000</td>\n",
       "    </tr>\n",
       "    <tr>\n",
       "      <th>3</th>\n",
       "      <td>4</td>\n",
       "      <td>Michael Bryant</td>\n",
       "      <td>30</td>\n",
       "      <td>Male</td>\n",
       "      <td>Finance</td>\n",
       "      <td>Analyst</td>\n",
       "      <td>9</td>\n",
       "      <td>Bachelor</td>\n",
       "      <td>New York</td>\n",
       "      <td>75000</td>\n",
       "    </tr>\n",
       "    <tr>\n",
       "      <th>4</th>\n",
       "      <td>5</td>\n",
       "      <td>Paula Douglas</td>\n",
       "      <td>25</td>\n",
       "      <td>Female</td>\n",
       "      <td>HR</td>\n",
       "      <td>Analyst</td>\n",
       "      <td>2</td>\n",
       "      <td>Master</td>\n",
       "      <td>Seattle</td>\n",
       "      <td>70000</td>\n",
       "    </tr>\n",
       "    <tr>\n",
       "      <th>5</th>\n",
       "      <td>6</td>\n",
       "      <td>Michael Irving</td>\n",
       "      <td>35</td>\n",
       "      <td>Male</td>\n",
       "      <td>Finance</td>\n",
       "      <td>Manager</td>\n",
       "      <td>8</td>\n",
       "      <td>PhD</td>\n",
       "      <td>New York</td>\n",
       "      <td>125000</td>\n",
       "    </tr>\n",
       "    <tr>\n",
       "      <th>6</th>\n",
       "      <td>7</td>\n",
       "      <td>Marcelle Campbell</td>\n",
       "      <td>23</td>\n",
       "      <td>Female</td>\n",
       "      <td>Marketing</td>\n",
       "      <td>Analyst</td>\n",
       "      <td>2</td>\n",
       "      <td>Bachelor</td>\n",
       "      <td>San Francisco</td>\n",
       "      <td>60000</td>\n",
       "    </tr>\n",
       "    <tr>\n",
       "      <th>7</th>\n",
       "      <td>8</td>\n",
       "      <td>Glenda Leal</td>\n",
       "      <td>47</td>\n",
       "      <td>Female</td>\n",
       "      <td>Marketing</td>\n",
       "      <td>Manager</td>\n",
       "      <td>24</td>\n",
       "      <td>Master</td>\n",
       "      <td>San Francisco</td>\n",
       "      <td>145000</td>\n",
       "    </tr>\n",
       "    <tr>\n",
       "      <th>8</th>\n",
       "      <td>9</td>\n",
       "      <td>Walter Williams</td>\n",
       "      <td>43</td>\n",
       "      <td>Male</td>\n",
       "      <td>Marketing</td>\n",
       "      <td>Manager</td>\n",
       "      <td>16</td>\n",
       "      <td>PhD</td>\n",
       "      <td>San Francisco</td>\n",
       "      <td>135000</td>\n",
       "    </tr>\n",
       "    <tr>\n",
       "      <th>9</th>\n",
       "      <td>10</td>\n",
       "      <td>Vanessa Songer</td>\n",
       "      <td>23</td>\n",
       "      <td>Female</td>\n",
       "      <td>Marketing</td>\n",
       "      <td>Analyst</td>\n",
       "      <td>0</td>\n",
       "      <td>Master</td>\n",
       "      <td>San Francisco</td>\n",
       "      <td>70000</td>\n",
       "    </tr>\n",
       "  </tbody>\n",
       "</table>\n",
       "</div>"
      ],
      "text/plain": [
       "   Employee_ID               Name  Age  Gender   Department  Job_Title  \\\n",
       "0            1       Merle Ingram   24  Female  Engineering   Engineer   \n",
       "1            2         John Mayes   56    Male        Sales  Executive   \n",
       "2            3       Carlos Wille   21    Male  Engineering     Intern   \n",
       "3            4     Michael Bryant   30    Male      Finance    Analyst   \n",
       "4            5      Paula Douglas   25  Female           HR    Analyst   \n",
       "5            6     Michael Irving   35    Male      Finance    Manager   \n",
       "6            7  Marcelle Campbell   23  Female    Marketing    Analyst   \n",
       "7            8        Glenda Leal   47  Female    Marketing    Manager   \n",
       "8            9    Walter Williams   43    Male    Marketing    Manager   \n",
       "9           10     Vanessa Songer   23  Female    Marketing    Analyst   \n",
       "\n",
       "   Experience_Years Education_Level       Location  Salary  \n",
       "0                 1          Master         Austin   90000  \n",
       "1                33          Master        Seattle  195000  \n",
       "2                 1        Bachelor       New York   35000  \n",
       "3                 9        Bachelor       New York   75000  \n",
       "4                 2          Master        Seattle   70000  \n",
       "5                 8             PhD       New York  125000  \n",
       "6                 2        Bachelor  San Francisco   60000  \n",
       "7                24          Master  San Francisco  145000  \n",
       "8                16             PhD  San Francisco  135000  \n",
       "9                 0          Master  San Francisco   70000  "
      ]
     },
     "execution_count": 13,
     "metadata": {},
     "output_type": "execute_result"
    }
   ],
   "source": [
    "df.head(10)"
   ]
  },
  {
   "cell_type": "code",
   "execution_count": 14,
   "id": "cc64028e-4b7f-45be-bf80-d3b644551d5b",
   "metadata": {},
   "outputs": [
    {
     "data": {
      "text/html": [
       "<div>\n",
       "<style scoped>\n",
       "    .dataframe tbody tr th:only-of-type {\n",
       "        vertical-align: middle;\n",
       "    }\n",
       "\n",
       "    .dataframe tbody tr th {\n",
       "        vertical-align: top;\n",
       "    }\n",
       "\n",
       "    .dataframe thead th {\n",
       "        text-align: right;\n",
       "    }\n",
       "</style>\n",
       "<table border=\"1\" class=\"dataframe\">\n",
       "  <thead>\n",
       "    <tr style=\"text-align: right;\">\n",
       "      <th></th>\n",
       "      <th>Employee_ID</th>\n",
       "      <th>Name</th>\n",
       "      <th>Age</th>\n",
       "      <th>Gender</th>\n",
       "      <th>Department</th>\n",
       "      <th>Job_Title</th>\n",
       "      <th>Experience_Years</th>\n",
       "      <th>Education_Level</th>\n",
       "      <th>Location</th>\n",
       "      <th>Salary</th>\n",
       "    </tr>\n",
       "  </thead>\n",
       "  <tbody>\n",
       "    <tr>\n",
       "      <th>9980</th>\n",
       "      <td>9981</td>\n",
       "      <td>Carroll Cummings</td>\n",
       "      <td>22</td>\n",
       "      <td>Male</td>\n",
       "      <td>Engineering</td>\n",
       "      <td>Intern</td>\n",
       "      <td>0</td>\n",
       "      <td>Bachelor</td>\n",
       "      <td>New York</td>\n",
       "      <td>35000</td>\n",
       "    </tr>\n",
       "    <tr>\n",
       "      <th>9981</th>\n",
       "      <td>9982</td>\n",
       "      <td>Gary Magdaleno</td>\n",
       "      <td>30</td>\n",
       "      <td>Male</td>\n",
       "      <td>Finance</td>\n",
       "      <td>Analyst</td>\n",
       "      <td>9</td>\n",
       "      <td>Bachelor</td>\n",
       "      <td>New York</td>\n",
       "      <td>75000</td>\n",
       "    </tr>\n",
       "    <tr>\n",
       "      <th>9982</th>\n",
       "      <td>9983</td>\n",
       "      <td>Robert Wyrick</td>\n",
       "      <td>33</td>\n",
       "      <td>Male</td>\n",
       "      <td>Product</td>\n",
       "      <td>Manager</td>\n",
       "      <td>10</td>\n",
       "      <td>Master</td>\n",
       "      <td>New York</td>\n",
       "      <td>125000</td>\n",
       "    </tr>\n",
       "    <tr>\n",
       "      <th>9983</th>\n",
       "      <td>9984</td>\n",
       "      <td>Stanley Bialaszewski</td>\n",
       "      <td>23</td>\n",
       "      <td>Male</td>\n",
       "      <td>HR</td>\n",
       "      <td>Analyst</td>\n",
       "      <td>2</td>\n",
       "      <td>Bachelor</td>\n",
       "      <td>San Francisco</td>\n",
       "      <td>65000</td>\n",
       "    </tr>\n",
       "    <tr>\n",
       "      <th>9984</th>\n",
       "      <td>9985</td>\n",
       "      <td>Florence Rose</td>\n",
       "      <td>46</td>\n",
       "      <td>Female</td>\n",
       "      <td>Finance</td>\n",
       "      <td>Executive</td>\n",
       "      <td>19</td>\n",
       "      <td>PhD</td>\n",
       "      <td>Chicago</td>\n",
       "      <td>175000</td>\n",
       "    </tr>\n",
       "    <tr>\n",
       "      <th>9985</th>\n",
       "      <td>9986</td>\n",
       "      <td>Brooke Schlesser</td>\n",
       "      <td>23</td>\n",
       "      <td>Female</td>\n",
       "      <td>Engineering</td>\n",
       "      <td>Intern</td>\n",
       "      <td>0</td>\n",
       "      <td>Bachelor</td>\n",
       "      <td>Austin</td>\n",
       "      <td>35000</td>\n",
       "    </tr>\n",
       "    <tr>\n",
       "      <th>9986</th>\n",
       "      <td>9987</td>\n",
       "      <td>Rosemarie Bernal</td>\n",
       "      <td>39</td>\n",
       "      <td>Female</td>\n",
       "      <td>Engineering</td>\n",
       "      <td>Manager</td>\n",
       "      <td>16</td>\n",
       "      <td>Master</td>\n",
       "      <td>New York</td>\n",
       "      <td>140000</td>\n",
       "    </tr>\n",
       "    <tr>\n",
       "      <th>9987</th>\n",
       "      <td>9988</td>\n",
       "      <td>Catherine Lundstrom</td>\n",
       "      <td>29</td>\n",
       "      <td>Female</td>\n",
       "      <td>Sales</td>\n",
       "      <td>Analyst</td>\n",
       "      <td>8</td>\n",
       "      <td>Bachelor</td>\n",
       "      <td>Austin</td>\n",
       "      <td>80000</td>\n",
       "    </tr>\n",
       "    <tr>\n",
       "      <th>9988</th>\n",
       "      <td>9989</td>\n",
       "      <td>Ruby Dowell</td>\n",
       "      <td>24</td>\n",
       "      <td>Female</td>\n",
       "      <td>Sales</td>\n",
       "      <td>Analyst</td>\n",
       "      <td>3</td>\n",
       "      <td>Bachelor</td>\n",
       "      <td>San Francisco</td>\n",
       "      <td>65000</td>\n",
       "    </tr>\n",
       "    <tr>\n",
       "      <th>9989</th>\n",
       "      <td>9990</td>\n",
       "      <td>Elaine Douglas</td>\n",
       "      <td>59</td>\n",
       "      <td>Female</td>\n",
       "      <td>HR</td>\n",
       "      <td>Executive</td>\n",
       "      <td>32</td>\n",
       "      <td>PhD</td>\n",
       "      <td>New York</td>\n",
       "      <td>200000</td>\n",
       "    </tr>\n",
       "    <tr>\n",
       "      <th>9990</th>\n",
       "      <td>9991</td>\n",
       "      <td>Sally Hudson</td>\n",
       "      <td>46</td>\n",
       "      <td>Female</td>\n",
       "      <td>Finance</td>\n",
       "      <td>Manager</td>\n",
       "      <td>23</td>\n",
       "      <td>Master</td>\n",
       "      <td>Chicago</td>\n",
       "      <td>150000</td>\n",
       "    </tr>\n",
       "    <tr>\n",
       "      <th>9991</th>\n",
       "      <td>9992</td>\n",
       "      <td>Amanda Pariente</td>\n",
       "      <td>38</td>\n",
       "      <td>Female</td>\n",
       "      <td>Engineering</td>\n",
       "      <td>Manager</td>\n",
       "      <td>15</td>\n",
       "      <td>Master</td>\n",
       "      <td>New York</td>\n",
       "      <td>125000</td>\n",
       "    </tr>\n",
       "    <tr>\n",
       "      <th>9992</th>\n",
       "      <td>9993</td>\n",
       "      <td>Corey Medina</td>\n",
       "      <td>27</td>\n",
       "      <td>Male</td>\n",
       "      <td>Finance</td>\n",
       "      <td>Analyst</td>\n",
       "      <td>4</td>\n",
       "      <td>Master</td>\n",
       "      <td>San Francisco</td>\n",
       "      <td>70000</td>\n",
       "    </tr>\n",
       "    <tr>\n",
       "      <th>9993</th>\n",
       "      <td>9994</td>\n",
       "      <td>Pedro Caul</td>\n",
       "      <td>51</td>\n",
       "      <td>Male</td>\n",
       "      <td>Finance</td>\n",
       "      <td>Executive</td>\n",
       "      <td>28</td>\n",
       "      <td>Master</td>\n",
       "      <td>New York</td>\n",
       "      <td>200000</td>\n",
       "    </tr>\n",
       "    <tr>\n",
       "      <th>9994</th>\n",
       "      <td>9995</td>\n",
       "      <td>Laura Ross</td>\n",
       "      <td>31</td>\n",
       "      <td>Female</td>\n",
       "      <td>Product</td>\n",
       "      <td>Engineer</td>\n",
       "      <td>10</td>\n",
       "      <td>Bachelor</td>\n",
       "      <td>San Francisco</td>\n",
       "      <td>95000</td>\n",
       "    </tr>\n",
       "    <tr>\n",
       "      <th>9995</th>\n",
       "      <td>9996</td>\n",
       "      <td>Thomas Rossin</td>\n",
       "      <td>51</td>\n",
       "      <td>Male</td>\n",
       "      <td>Sales</td>\n",
       "      <td>Executive</td>\n",
       "      <td>28</td>\n",
       "      <td>Master</td>\n",
       "      <td>Austin</td>\n",
       "      <td>185000</td>\n",
       "    </tr>\n",
       "    <tr>\n",
       "      <th>9996</th>\n",
       "      <td>9997</td>\n",
       "      <td>Christie King</td>\n",
       "      <td>36</td>\n",
       "      <td>Female</td>\n",
       "      <td>Sales</td>\n",
       "      <td>Executive</td>\n",
       "      <td>9</td>\n",
       "      <td>PhD</td>\n",
       "      <td>San Francisco</td>\n",
       "      <td>165000</td>\n",
       "    </tr>\n",
       "    <tr>\n",
       "      <th>9997</th>\n",
       "      <td>9998</td>\n",
       "      <td>Alfred Keller</td>\n",
       "      <td>57</td>\n",
       "      <td>Male</td>\n",
       "      <td>Sales</td>\n",
       "      <td>Executive</td>\n",
       "      <td>30</td>\n",
       "      <td>PhD</td>\n",
       "      <td>New York</td>\n",
       "      <td>200000</td>\n",
       "    </tr>\n",
       "    <tr>\n",
       "      <th>9998</th>\n",
       "      <td>9999</td>\n",
       "      <td>Margaret Gomez</td>\n",
       "      <td>37</td>\n",
       "      <td>Female</td>\n",
       "      <td>Engineering</td>\n",
       "      <td>Manager</td>\n",
       "      <td>14</td>\n",
       "      <td>Master</td>\n",
       "      <td>New York</td>\n",
       "      <td>135000</td>\n",
       "    </tr>\n",
       "    <tr>\n",
       "      <th>9999</th>\n",
       "      <td>10000</td>\n",
       "      <td>Joan Sorensen</td>\n",
       "      <td>25</td>\n",
       "      <td>Female</td>\n",
       "      <td>Sales</td>\n",
       "      <td>Analyst</td>\n",
       "      <td>4</td>\n",
       "      <td>Bachelor</td>\n",
       "      <td>San Francisco</td>\n",
       "      <td>70000</td>\n",
       "    </tr>\n",
       "  </tbody>\n",
       "</table>\n",
       "</div>"
      ],
      "text/plain": [
       "      Employee_ID                  Name  Age  Gender   Department  Job_Title  \\\n",
       "9980         9981      Carroll Cummings   22    Male  Engineering     Intern   \n",
       "9981         9982        Gary Magdaleno   30    Male      Finance    Analyst   \n",
       "9982         9983         Robert Wyrick   33    Male      Product    Manager   \n",
       "9983         9984  Stanley Bialaszewski   23    Male           HR    Analyst   \n",
       "9984         9985         Florence Rose   46  Female      Finance  Executive   \n",
       "9985         9986      Brooke Schlesser   23  Female  Engineering     Intern   \n",
       "9986         9987      Rosemarie Bernal   39  Female  Engineering    Manager   \n",
       "9987         9988   Catherine Lundstrom   29  Female        Sales    Analyst   \n",
       "9988         9989           Ruby Dowell   24  Female        Sales    Analyst   \n",
       "9989         9990        Elaine Douglas   59  Female           HR  Executive   \n",
       "9990         9991          Sally Hudson   46  Female      Finance    Manager   \n",
       "9991         9992       Amanda Pariente   38  Female  Engineering    Manager   \n",
       "9992         9993          Corey Medina   27    Male      Finance    Analyst   \n",
       "9993         9994            Pedro Caul   51    Male      Finance  Executive   \n",
       "9994         9995            Laura Ross   31  Female      Product   Engineer   \n",
       "9995         9996         Thomas Rossin   51    Male        Sales  Executive   \n",
       "9996         9997         Christie King   36  Female        Sales  Executive   \n",
       "9997         9998         Alfred Keller   57    Male        Sales  Executive   \n",
       "9998         9999        Margaret Gomez   37  Female  Engineering    Manager   \n",
       "9999        10000         Joan Sorensen   25  Female        Sales    Analyst   \n",
       "\n",
       "      Experience_Years Education_Level       Location  Salary  \n",
       "9980                 0        Bachelor       New York   35000  \n",
       "9981                 9        Bachelor       New York   75000  \n",
       "9982                10          Master       New York  125000  \n",
       "9983                 2        Bachelor  San Francisco   65000  \n",
       "9984                19             PhD        Chicago  175000  \n",
       "9985                 0        Bachelor         Austin   35000  \n",
       "9986                16          Master       New York  140000  \n",
       "9987                 8        Bachelor         Austin   80000  \n",
       "9988                 3        Bachelor  San Francisco   65000  \n",
       "9989                32             PhD       New York  200000  \n",
       "9990                23          Master        Chicago  150000  \n",
       "9991                15          Master       New York  125000  \n",
       "9992                 4          Master  San Francisco   70000  \n",
       "9993                28          Master       New York  200000  \n",
       "9994                10        Bachelor  San Francisco   95000  \n",
       "9995                28          Master         Austin  185000  \n",
       "9996                 9             PhD  San Francisco  165000  \n",
       "9997                30             PhD       New York  200000  \n",
       "9998                14          Master       New York  135000  \n",
       "9999                 4        Bachelor  San Francisco   70000  "
      ]
     },
     "execution_count": 14,
     "metadata": {},
     "output_type": "execute_result"
    }
   ],
   "source": [
    "df.tail(20)"
   ]
  },
  {
   "cell_type": "code",
   "execution_count": 15,
   "id": "9df5e8e5-be63-49f2-81dc-d42716336d5d",
   "metadata": {},
   "outputs": [
    {
     "data": {
      "text/html": [
       "<div>\n",
       "<style scoped>\n",
       "    .dataframe tbody tr th:only-of-type {\n",
       "        vertical-align: middle;\n",
       "    }\n",
       "\n",
       "    .dataframe tbody tr th {\n",
       "        vertical-align: top;\n",
       "    }\n",
       "\n",
       "    .dataframe thead th {\n",
       "        text-align: right;\n",
       "    }\n",
       "</style>\n",
       "<table border=\"1\" class=\"dataframe\">\n",
       "  <thead>\n",
       "    <tr style=\"text-align: right;\">\n",
       "      <th></th>\n",
       "      <th>Employee_ID</th>\n",
       "      <th>Age</th>\n",
       "      <th>Experience_Years</th>\n",
       "      <th>Salary</th>\n",
       "    </tr>\n",
       "  </thead>\n",
       "  <tbody>\n",
       "    <tr>\n",
       "      <th>count</th>\n",
       "      <td>10000.00000</td>\n",
       "      <td>10000.000000</td>\n",
       "      <td>10000.000000</td>\n",
       "      <td>10000.000000</td>\n",
       "    </tr>\n",
       "    <tr>\n",
       "      <th>mean</th>\n",
       "      <td>5000.50000</td>\n",
       "      <td>35.455900</td>\n",
       "      <td>12.370900</td>\n",
       "      <td>115381.500000</td>\n",
       "    </tr>\n",
       "    <tr>\n",
       "      <th>std</th>\n",
       "      <td>2886.89568</td>\n",
       "      <td>10.000213</td>\n",
       "      <td>9.148951</td>\n",
       "      <td>46066.139047</td>\n",
       "    </tr>\n",
       "    <tr>\n",
       "      <th>min</th>\n",
       "      <td>1.00000</td>\n",
       "      <td>21.000000</td>\n",
       "      <td>0.000000</td>\n",
       "      <td>25000.000000</td>\n",
       "    </tr>\n",
       "    <tr>\n",
       "      <th>25%</th>\n",
       "      <td>2500.75000</td>\n",
       "      <td>27.000000</td>\n",
       "      <td>5.000000</td>\n",
       "      <td>70000.000000</td>\n",
       "    </tr>\n",
       "    <tr>\n",
       "      <th>50%</th>\n",
       "      <td>5000.50000</td>\n",
       "      <td>34.000000</td>\n",
       "      <td>10.000000</td>\n",
       "      <td>120000.000000</td>\n",
       "    </tr>\n",
       "    <tr>\n",
       "      <th>75%</th>\n",
       "      <td>7500.25000</td>\n",
       "      <td>43.000000</td>\n",
       "      <td>19.000000</td>\n",
       "      <td>150000.000000</td>\n",
       "    </tr>\n",
       "    <tr>\n",
       "      <th>max</th>\n",
       "      <td>10000.00000</td>\n",
       "      <td>60.000000</td>\n",
       "      <td>37.000000</td>\n",
       "      <td>215000.000000</td>\n",
       "    </tr>\n",
       "  </tbody>\n",
       "</table>\n",
       "</div>"
      ],
      "text/plain": [
       "       Employee_ID           Age  Experience_Years         Salary\n",
       "count  10000.00000  10000.000000      10000.000000   10000.000000\n",
       "mean    5000.50000     35.455900         12.370900  115381.500000\n",
       "std     2886.89568     10.000213          9.148951   46066.139047\n",
       "min        1.00000     21.000000          0.000000   25000.000000\n",
       "25%     2500.75000     27.000000          5.000000   70000.000000\n",
       "50%     5000.50000     34.000000         10.000000  120000.000000\n",
       "75%     7500.25000     43.000000         19.000000  150000.000000\n",
       "max    10000.00000     60.000000         37.000000  215000.000000"
      ]
     },
     "execution_count": 15,
     "metadata": {},
     "output_type": "execute_result"
    }
   ],
   "source": [
    "df.describe()"
   ]
  },
  {
   "cell_type": "code",
   "execution_count": 21,
   "id": "29712b8a-ae0c-4dd8-98e4-4033e32af6b6",
   "metadata": {},
   "outputs": [
    {
     "data": {
      "text/html": [
       "<div>\n",
       "<style scoped>\n",
       "    .dataframe tbody tr th:only-of-type {\n",
       "        vertical-align: middle;\n",
       "    }\n",
       "\n",
       "    .dataframe tbody tr th {\n",
       "        vertical-align: top;\n",
       "    }\n",
       "\n",
       "    .dataframe thead th {\n",
       "        text-align: right;\n",
       "    }\n",
       "</style>\n",
       "<table border=\"1\" class=\"dataframe\">\n",
       "  <thead>\n",
       "    <tr style=\"text-align: right;\">\n",
       "      <th></th>\n",
       "      <th>Employee_ID</th>\n",
       "      <th>Name</th>\n",
       "      <th>Age</th>\n",
       "      <th>Gender</th>\n",
       "      <th>Department</th>\n",
       "      <th>Job_Title</th>\n",
       "      <th>Experience_Years</th>\n",
       "      <th>Education_Level</th>\n",
       "      <th>Location</th>\n",
       "      <th>Salary</th>\n",
       "    </tr>\n",
       "  </thead>\n",
       "  <tbody>\n",
       "    <tr>\n",
       "      <th>0</th>\n",
       "      <td>1</td>\n",
       "      <td>Merle Ingram</td>\n",
       "      <td>24</td>\n",
       "      <td>Female</td>\n",
       "      <td>Engineering</td>\n",
       "      <td>Engineer</td>\n",
       "      <td>1</td>\n",
       "      <td>Master</td>\n",
       "      <td>Austin</td>\n",
       "      <td>90000</td>\n",
       "    </tr>\n",
       "    <tr>\n",
       "      <th>1</th>\n",
       "      <td>2</td>\n",
       "      <td>John Mayes</td>\n",
       "      <td>56</td>\n",
       "      <td>Male</td>\n",
       "      <td>Sales</td>\n",
       "      <td>Executive</td>\n",
       "      <td>33</td>\n",
       "      <td>Master</td>\n",
       "      <td>Seattle</td>\n",
       "      <td>195000</td>\n",
       "    </tr>\n",
       "    <tr>\n",
       "      <th>2</th>\n",
       "      <td>3</td>\n",
       "      <td>Carlos Wille</td>\n",
       "      <td>21</td>\n",
       "      <td>Male</td>\n",
       "      <td>Engineering</td>\n",
       "      <td>Intern</td>\n",
       "      <td>1</td>\n",
       "      <td>Bachelor</td>\n",
       "      <td>New York</td>\n",
       "      <td>35000</td>\n",
       "    </tr>\n",
       "    <tr>\n",
       "      <th>3</th>\n",
       "      <td>4</td>\n",
       "      <td>Michael Bryant</td>\n",
       "      <td>30</td>\n",
       "      <td>Male</td>\n",
       "      <td>Finance</td>\n",
       "      <td>Analyst</td>\n",
       "      <td>9</td>\n",
       "      <td>Bachelor</td>\n",
       "      <td>New York</td>\n",
       "      <td>75000</td>\n",
       "    </tr>\n",
       "    <tr>\n",
       "      <th>4</th>\n",
       "      <td>5</td>\n",
       "      <td>Paula Douglas</td>\n",
       "      <td>25</td>\n",
       "      <td>Female</td>\n",
       "      <td>HR</td>\n",
       "      <td>Analyst</td>\n",
       "      <td>2</td>\n",
       "      <td>Master</td>\n",
       "      <td>Seattle</td>\n",
       "      <td>70000</td>\n",
       "    </tr>\n",
       "    <tr>\n",
       "      <th>...</th>\n",
       "      <td>...</td>\n",
       "      <td>...</td>\n",
       "      <td>...</td>\n",
       "      <td>...</td>\n",
       "      <td>...</td>\n",
       "      <td>...</td>\n",
       "      <td>...</td>\n",
       "      <td>...</td>\n",
       "      <td>...</td>\n",
       "      <td>...</td>\n",
       "    </tr>\n",
       "    <tr>\n",
       "      <th>9995</th>\n",
       "      <td>9996</td>\n",
       "      <td>Thomas Rossin</td>\n",
       "      <td>51</td>\n",
       "      <td>Male</td>\n",
       "      <td>Sales</td>\n",
       "      <td>Executive</td>\n",
       "      <td>28</td>\n",
       "      <td>Master</td>\n",
       "      <td>Austin</td>\n",
       "      <td>185000</td>\n",
       "    </tr>\n",
       "    <tr>\n",
       "      <th>9996</th>\n",
       "      <td>9997</td>\n",
       "      <td>Christie King</td>\n",
       "      <td>36</td>\n",
       "      <td>Female</td>\n",
       "      <td>Sales</td>\n",
       "      <td>Executive</td>\n",
       "      <td>9</td>\n",
       "      <td>PhD</td>\n",
       "      <td>San Francisco</td>\n",
       "      <td>165000</td>\n",
       "    </tr>\n",
       "    <tr>\n",
       "      <th>9997</th>\n",
       "      <td>9998</td>\n",
       "      <td>Alfred Keller</td>\n",
       "      <td>57</td>\n",
       "      <td>Male</td>\n",
       "      <td>Sales</td>\n",
       "      <td>Executive</td>\n",
       "      <td>30</td>\n",
       "      <td>PhD</td>\n",
       "      <td>New York</td>\n",
       "      <td>200000</td>\n",
       "    </tr>\n",
       "    <tr>\n",
       "      <th>9998</th>\n",
       "      <td>9999</td>\n",
       "      <td>Margaret Gomez</td>\n",
       "      <td>37</td>\n",
       "      <td>Female</td>\n",
       "      <td>Engineering</td>\n",
       "      <td>Manager</td>\n",
       "      <td>14</td>\n",
       "      <td>Master</td>\n",
       "      <td>New York</td>\n",
       "      <td>135000</td>\n",
       "    </tr>\n",
       "    <tr>\n",
       "      <th>9999</th>\n",
       "      <td>10000</td>\n",
       "      <td>Joan Sorensen</td>\n",
       "      <td>25</td>\n",
       "      <td>Female</td>\n",
       "      <td>Sales</td>\n",
       "      <td>Analyst</td>\n",
       "      <td>4</td>\n",
       "      <td>Bachelor</td>\n",
       "      <td>San Francisco</td>\n",
       "      <td>70000</td>\n",
       "    </tr>\n",
       "  </tbody>\n",
       "</table>\n",
       "<p>10000 rows × 10 columns</p>\n",
       "</div>"
      ],
      "text/plain": [
       "      Employee_ID            Name  Age  Gender   Department  Job_Title  \\\n",
       "0               1    Merle Ingram   24  Female  Engineering   Engineer   \n",
       "1               2      John Mayes   56    Male        Sales  Executive   \n",
       "2               3    Carlos Wille   21    Male  Engineering     Intern   \n",
       "3               4  Michael Bryant   30    Male      Finance    Analyst   \n",
       "4               5   Paula Douglas   25  Female           HR    Analyst   \n",
       "...           ...             ...  ...     ...          ...        ...   \n",
       "9995         9996   Thomas Rossin   51    Male        Sales  Executive   \n",
       "9996         9997   Christie King   36  Female        Sales  Executive   \n",
       "9997         9998   Alfred Keller   57    Male        Sales  Executive   \n",
       "9998         9999  Margaret Gomez   37  Female  Engineering    Manager   \n",
       "9999        10000   Joan Sorensen   25  Female        Sales    Analyst   \n",
       "\n",
       "      Experience_Years Education_Level       Location  Salary  \n",
       "0                    1          Master         Austin   90000  \n",
       "1                   33          Master        Seattle  195000  \n",
       "2                    1        Bachelor       New York   35000  \n",
       "3                    9        Bachelor       New York   75000  \n",
       "4                    2          Master        Seattle   70000  \n",
       "...                ...             ...            ...     ...  \n",
       "9995                28          Master         Austin  185000  \n",
       "9996                 9             PhD  San Francisco  165000  \n",
       "9997                30             PhD       New York  200000  \n",
       "9998                14          Master       New York  135000  \n",
       "9999                 4        Bachelor  San Francisco   70000  \n",
       "\n",
       "[10000 rows x 10 columns]"
      ]
     },
     "execution_count": 21,
     "metadata": {},
     "output_type": "execute_result"
    }
   ],
   "source": [
    "df.dropna()"
   ]
  },
  {
   "cell_type": "code",
   "execution_count": 18,
   "id": "4307421a-c2c6-4576-81af-4c68e99b5199",
   "metadata": {},
   "outputs": [
    {
     "data": {
      "text/html": [
       "<div>\n",
       "<style scoped>\n",
       "    .dataframe tbody tr th:only-of-type {\n",
       "        vertical-align: middle;\n",
       "    }\n",
       "\n",
       "    .dataframe tbody tr th {\n",
       "        vertical-align: top;\n",
       "    }\n",
       "\n",
       "    .dataframe thead th {\n",
       "        text-align: right;\n",
       "    }\n",
       "</style>\n",
       "<table border=\"1\" class=\"dataframe\">\n",
       "  <thead>\n",
       "    <tr style=\"text-align: right;\">\n",
       "      <th></th>\n",
       "      <th>Employee_ID</th>\n",
       "      <th>Name</th>\n",
       "      <th>Age</th>\n",
       "      <th>Gender</th>\n",
       "      <th>Department</th>\n",
       "      <th>Job_Title</th>\n",
       "      <th>Experience_Years</th>\n",
       "      <th>Education_Level</th>\n",
       "      <th>Location</th>\n",
       "      <th>Salary</th>\n",
       "    </tr>\n",
       "  </thead>\n",
       "  <tbody>\n",
       "    <tr>\n",
       "      <th>0</th>\n",
       "      <td>1</td>\n",
       "      <td>Merle Ingram</td>\n",
       "      <td>24</td>\n",
       "      <td>Female</td>\n",
       "      <td>Engineering</td>\n",
       "      <td>Engineer</td>\n",
       "      <td>1</td>\n",
       "      <td>Master</td>\n",
       "      <td>Austin</td>\n",
       "      <td>90000</td>\n",
       "    </tr>\n",
       "    <tr>\n",
       "      <th>1</th>\n",
       "      <td>2</td>\n",
       "      <td>John Mayes</td>\n",
       "      <td>56</td>\n",
       "      <td>Male</td>\n",
       "      <td>Sales</td>\n",
       "      <td>Executive</td>\n",
       "      <td>33</td>\n",
       "      <td>Master</td>\n",
       "      <td>Seattle</td>\n",
       "      <td>195000</td>\n",
       "    </tr>\n",
       "    <tr>\n",
       "      <th>2</th>\n",
       "      <td>3</td>\n",
       "      <td>Carlos Wille</td>\n",
       "      <td>21</td>\n",
       "      <td>Male</td>\n",
       "      <td>Engineering</td>\n",
       "      <td>Intern</td>\n",
       "      <td>1</td>\n",
       "      <td>Bachelor</td>\n",
       "      <td>New York</td>\n",
       "      <td>35000</td>\n",
       "    </tr>\n",
       "    <tr>\n",
       "      <th>3</th>\n",
       "      <td>4</td>\n",
       "      <td>Michael Bryant</td>\n",
       "      <td>30</td>\n",
       "      <td>Male</td>\n",
       "      <td>Finance</td>\n",
       "      <td>Analyst</td>\n",
       "      <td>9</td>\n",
       "      <td>Bachelor</td>\n",
       "      <td>New York</td>\n",
       "      <td>75000</td>\n",
       "    </tr>\n",
       "    <tr>\n",
       "      <th>4</th>\n",
       "      <td>5</td>\n",
       "      <td>Paula Douglas</td>\n",
       "      <td>25</td>\n",
       "      <td>Female</td>\n",
       "      <td>HR</td>\n",
       "      <td>Analyst</td>\n",
       "      <td>2</td>\n",
       "      <td>Master</td>\n",
       "      <td>Seattle</td>\n",
       "      <td>70000</td>\n",
       "    </tr>\n",
       "    <tr>\n",
       "      <th>...</th>\n",
       "      <td>...</td>\n",
       "      <td>...</td>\n",
       "      <td>...</td>\n",
       "      <td>...</td>\n",
       "      <td>...</td>\n",
       "      <td>...</td>\n",
       "      <td>...</td>\n",
       "      <td>...</td>\n",
       "      <td>...</td>\n",
       "      <td>...</td>\n",
       "    </tr>\n",
       "    <tr>\n",
       "      <th>9995</th>\n",
       "      <td>9996</td>\n",
       "      <td>Thomas Rossin</td>\n",
       "      <td>51</td>\n",
       "      <td>Male</td>\n",
       "      <td>Sales</td>\n",
       "      <td>Executive</td>\n",
       "      <td>28</td>\n",
       "      <td>Master</td>\n",
       "      <td>Austin</td>\n",
       "      <td>185000</td>\n",
       "    </tr>\n",
       "    <tr>\n",
       "      <th>9996</th>\n",
       "      <td>9997</td>\n",
       "      <td>Christie King</td>\n",
       "      <td>36</td>\n",
       "      <td>Female</td>\n",
       "      <td>Sales</td>\n",
       "      <td>Executive</td>\n",
       "      <td>9</td>\n",
       "      <td>PhD</td>\n",
       "      <td>San Francisco</td>\n",
       "      <td>165000</td>\n",
       "    </tr>\n",
       "    <tr>\n",
       "      <th>9997</th>\n",
       "      <td>9998</td>\n",
       "      <td>Alfred Keller</td>\n",
       "      <td>57</td>\n",
       "      <td>Male</td>\n",
       "      <td>Sales</td>\n",
       "      <td>Executive</td>\n",
       "      <td>30</td>\n",
       "      <td>PhD</td>\n",
       "      <td>New York</td>\n",
       "      <td>200000</td>\n",
       "    </tr>\n",
       "    <tr>\n",
       "      <th>9998</th>\n",
       "      <td>9999</td>\n",
       "      <td>Margaret Gomez</td>\n",
       "      <td>37</td>\n",
       "      <td>Female</td>\n",
       "      <td>Engineering</td>\n",
       "      <td>Manager</td>\n",
       "      <td>14</td>\n",
       "      <td>Master</td>\n",
       "      <td>New York</td>\n",
       "      <td>135000</td>\n",
       "    </tr>\n",
       "    <tr>\n",
       "      <th>9999</th>\n",
       "      <td>10000</td>\n",
       "      <td>Joan Sorensen</td>\n",
       "      <td>25</td>\n",
       "      <td>Female</td>\n",
       "      <td>Sales</td>\n",
       "      <td>Analyst</td>\n",
       "      <td>4</td>\n",
       "      <td>Bachelor</td>\n",
       "      <td>San Francisco</td>\n",
       "      <td>70000</td>\n",
       "    </tr>\n",
       "  </tbody>\n",
       "</table>\n",
       "<p>10000 rows × 10 columns</p>\n",
       "</div>"
      ],
      "text/plain": [
       "      Employee_ID            Name  Age  Gender   Department  Job_Title  \\\n",
       "0               1    Merle Ingram   24  Female  Engineering   Engineer   \n",
       "1               2      John Mayes   56    Male        Sales  Executive   \n",
       "2               3    Carlos Wille   21    Male  Engineering     Intern   \n",
       "3               4  Michael Bryant   30    Male      Finance    Analyst   \n",
       "4               5   Paula Douglas   25  Female           HR    Analyst   \n",
       "...           ...             ...  ...     ...          ...        ...   \n",
       "9995         9996   Thomas Rossin   51    Male        Sales  Executive   \n",
       "9996         9997   Christie King   36  Female        Sales  Executive   \n",
       "9997         9998   Alfred Keller   57    Male        Sales  Executive   \n",
       "9998         9999  Margaret Gomez   37  Female  Engineering    Manager   \n",
       "9999        10000   Joan Sorensen   25  Female        Sales    Analyst   \n",
       "\n",
       "      Experience_Years Education_Level       Location  Salary  \n",
       "0                    1          Master         Austin   90000  \n",
       "1                   33          Master        Seattle  195000  \n",
       "2                    1        Bachelor       New York   35000  \n",
       "3                    9        Bachelor       New York   75000  \n",
       "4                    2          Master        Seattle   70000  \n",
       "...                ...             ...            ...     ...  \n",
       "9995                28          Master         Austin  185000  \n",
       "9996                 9             PhD  San Francisco  165000  \n",
       "9997                30             PhD       New York  200000  \n",
       "9998                14          Master       New York  135000  \n",
       "9999                 4        Bachelor  San Francisco   70000  \n",
       "\n",
       "[10000 rows x 10 columns]"
      ]
     },
     "execution_count": 18,
     "metadata": {},
     "output_type": "execute_result"
    }
   ],
   "source": [
    "df.fillna(35.45)"
   ]
  },
  {
   "cell_type": "code",
   "execution_count": 22,
   "id": "81003122-17b2-4981-962e-628b514f7276",
   "metadata": {},
   "outputs": [
    {
     "name": "stdout",
     "output_type": "stream",
     "text": [
      "5\n",
      "4\n",
      "3\n",
      "2\n",
      "1\n",
      "blastoff\n",
      "0\n"
     ]
    }
   ],
   "source": [
    "n=5\n",
    "while n>0:\n",
    "    print(n)\n",
    "    n=n-1\n",
    "print('blastoff')\n",
    "print(n)\n",
    "    "
   ]
  },
  {
   "cell_type": "code",
   "execution_count": 24,
   "id": "ec96e3dc-6122-4c36-bb1a-13ee0ca997f7",
   "metadata": {},
   "outputs": [
    {
     "name": "stdin",
     "output_type": "stream",
     "text": [
      "> hello\n"
     ]
    },
    {
     "name": "stdout",
     "output_type": "stream",
     "text": [
      "hello\n"
     ]
    },
    {
     "name": "stdin",
     "output_type": "stream",
     "text": [
      "> hey\n"
     ]
    },
    {
     "name": "stdout",
     "output_type": "stream",
     "text": [
      "hey\n"
     ]
    },
    {
     "name": "stdin",
     "output_type": "stream",
     "text": [
      "> sh\n"
     ]
    },
    {
     "name": "stdout",
     "output_type": "stream",
     "text": [
      "sh\n"
     ]
    },
    {
     "name": "stdin",
     "output_type": "stream",
     "text": [
      "> done\n"
     ]
    },
    {
     "name": "stdout",
     "output_type": "stream",
     "text": [
      "done!\n"
     ]
    }
   ],
   "source": [
    "while True:\n",
    "    line = input('>')\n",
    "    if line=='done':\n",
    "        break\n",
    "    print(line)\n",
    "print('done!')"
   ]
  },
  {
   "cell_type": "code",
   "execution_count": 25,
   "id": "c286f118-5978-4329-a25b-2b535fbd4794",
   "metadata": {},
   "outputs": [
    {
     "name": "stdin",
     "output_type": "stream",
     "text": [
      "enter pass hey\n"
     ]
    },
    {
     "name": "stdout",
     "output_type": "stream",
     "text": [
      "hey\n"
     ]
    },
    {
     "name": "stdin",
     "output_type": "stream",
     "text": [
      "enter pass alpha\n"
     ]
    },
    {
     "name": "stdout",
     "output_type": "stream",
     "text": [
      "accessed\n"
     ]
    }
   ],
   "source": [
    "while True:\n",
    "    line = input('enter pass')\n",
    "    if line=='alpha':\n",
    "        break\n",
    "    print(line)\n",
    "print('accessed')"
   ]
  },
  {
   "cell_type": "code",
   "execution_count": 30,
   "id": "4d32df34-e175-4a64-8f70-9331b0ecb2ab",
   "metadata": {},
   "outputs": [
    {
     "name": "stdin",
     "output_type": "stream",
     "text": [
      "> hey\n"
     ]
    },
    {
     "name": "stdout",
     "output_type": "stream",
     "text": [
      "hey\n"
     ]
    },
    {
     "name": "stdin",
     "output_type": "stream",
     "text": [
      "> #hh\n",
      "> done\n"
     ]
    },
    {
     "name": "stdout",
     "output_type": "stream",
     "text": [
      "done\n"
     ]
    }
   ],
   "source": [
    "while True:\n",
    "    line = input('>')\n",
    "    if line[0]=='#':\n",
    "        continue\n",
    "    if line == 'done':\n",
    "        break\n",
    "    print(line)\n",
    "print('done')\n"
   ]
  },
  {
   "cell_type": "code",
   "execution_count": 35,
   "id": "44045899-3089-47f5-9ec8-d7bc368c6e84",
   "metadata": {},
   "outputs": [
    {
     "name": "stdout",
     "output_type": "stream",
     "text": [
      "happy new year:  alpha\n",
      "happy new year:  beta\n",
      "happy new year:  gamma\n",
      "done!\n"
     ]
    }
   ],
   "source": [
    "ds = ['alpha', 'beta', 'gamma']\n",
    "for friend in ds:\n",
    "    print('happy new year: ', friend)\n",
    "print('done!')"
   ]
  },
  {
   "cell_type": "code",
   "execution_count": 38,
   "id": "de81bace-d992-460e-bcef-161602da44a0",
   "metadata": {},
   "outputs": [
    {
     "name": "stdout",
     "output_type": "stream",
     "text": [
      "before -1\n",
      "9 9\n",
      "10 10\n",
      "55 55\n",
      "55 23\n",
      "55 34\n",
      "after 55\n"
     ]
    }
   ],
   "source": [
    "largest_so_far=-1\n",
    "print('before', largest_so_far)\n",
    "for the_num in [9,10,55,23,34]:\n",
    "    if the_num>largest_so_far:\n",
    "        largest_so_far = the_num\n",
    "    print(largest_so_far, the_num)\n",
    "print('after', largest_so_far)"
   ]
  },
  {
   "cell_type": "code",
   "execution_count": 42,
   "id": "ea8c04d3-56b5-46d3-a162-545c5bef1497",
   "metadata": {},
   "outputs": [
    {
     "name": "stdout",
     "output_type": "stream",
     "text": [
      "before sum: 0\n",
      "1 9\n",
      "2 41\n",
      "3 12\n",
      "4 3\n",
      "5 74\n",
      "6 15\n",
      "avg 25.666666666666668\n",
      "sum 154\n"
     ]
    }
   ],
   "source": [
    "zork=0\n",
    "sum=0\n",
    "print('before sum:', sum)\n",
    "for thing in [9,41,12,3,74,15]:\n",
    "    zork=zork+1\n",
    "    sum+=thing\n",
    "    print(zork,thing)\n",
    "avg=sum/zork\n",
    "print('avg',avg)\n",
    "print('sum', sum)\n",
    "    \n",
    "    "
   ]
  },
  {
   "cell_type": "code",
   "execution_count": 6,
   "id": "c03a0c75-da2c-45b5-8c84-f1ea1397b52f",
   "metadata": {},
   "outputs": [
    {
     "name": "stdout",
     "output_type": "stream",
     "text": [
      "hellobro\n",
      "124\n",
      "1231\n",
      "246\n"
     ]
    }
   ],
   "source": [
    "str1='hello'\n",
    "str2='bro'\n",
    "bob=str1+str2\n",
    "print(bob)\n",
    "str3='123'\n",
    "x=int(str3)+1\n",
    "print(x)\n",
    "y=str3+'1'\n",
    "print(y)\n",
    "z=2*int(str3)\n",
    "print(z)"
   ]
  },
  {
   "cell_type": "code",
   "execution_count": 7,
   "id": "d5404460-bd4f-48aa-b4c3-30f44186a1df",
   "metadata": {},
   "outputs": [
    {
     "name": "stdin",
     "output_type": "stream",
     "text": [
      "enter a number 20\n",
      "enter a number 30\n"
     ]
    },
    {
     "name": "stdout",
     "output_type": "stream",
     "text": [
      "50\n"
     ]
    }
   ],
   "source": [
    "a=int(input('enter a number'))\n",
    "b=int(input('enter a number'))\n",
    "c=a+b\n",
    "print(c)\n"
   ]
  },
  {
   "cell_type": "code",
   "execution_count": 10,
   "id": "1e7cb775-5aa6-42ad-9385-6c94f3e6f3c8",
   "metadata": {},
   "outputs": [
    {
     "name": "stdin",
     "output_type": "stream",
     "text": [
      "enter:  hey\n"
     ]
    },
    {
     "name": "stdout",
     "output_type": "stream",
     "text": [
      "hey\n"
     ]
    },
    {
     "name": "stdin",
     "output_type": "stream",
     "text": [
      "enter:  20\n"
     ]
    },
    {
     "name": "stdout",
     "output_type": "stream",
     "text": [
      "20\n",
      "19\n"
     ]
    },
    {
     "name": "stdin",
     "output_type": "stream",
     "text": [
      "enter:  30\n"
     ]
    },
    {
     "name": "stdout",
     "output_type": "stream",
     "text": [
      "30\n",
      "29\n"
     ]
    }
   ],
   "source": [
    "name=input('enter: ')\n",
    "print(name)\n",
    "apple=input('enter: ')\n",
    "print(apple)\n",
    "x=int(apple) - 1\n",
    "print(x)\n",
    "banana=int(input('enter: '))\n",
    "print(banana)\n",
    "y=banana - 1\n",
    "print(y)"
   ]
  },
  {
   "cell_type": "code",
   "execution_count": 1,
   "id": "499883ad-131a-44bb-a3a5-6b5faf71264d",
   "metadata": {},
   "outputs": [
    {
     "name": "stdout",
     "output_type": "stream",
     "text": [
      "a\n"
     ]
    }
   ],
   "source": [
    "abc='mango'\n",
    "print(abc[1])\n"
   ]
  },
  {
   "cell_type": "code",
   "execution_count": 2,
   "id": "6128e919-3da8-48bc-a524-ed7d20c222bf",
   "metadata": {},
   "outputs": [
    {
     "name": "stdout",
     "output_type": "stream",
     "text": [
      "0 b\n",
      "1 a\n",
      "2 n\n",
      "3 a\n",
      "4 n\n",
      "5 a\n"
     ]
    }
   ],
   "source": [
    "fruit='banana'\n",
    "index=0\n",
    "while index<len(fruit):\n",
    "    letter=fruit[index]\n",
    "    print(index, letter)\n",
    "    index=index+1"
   ]
  },
  {
   "cell_type": "code",
   "execution_count": 11,
   "id": "725ea63e-8446-42b4-939a-e4fd3b37508e",
   "metadata": {},
   "outputs": [
    {
     "name": "stdout",
     "output_type": "stream",
     "text": [
      "0 g\n",
      "1 u\n",
      "2 a\n",
      "3 v\n",
      "4 a\n",
      "5\n",
      "2\n"
     ]
    }
   ],
   "source": [
    "fruit='guava'\n",
    "index=0\n",
    "for i in fruit:\n",
    "    let=fruit[index]\n",
    "    print(index, let)\n",
    "    index=index+1\n",
    "print(len(fruit))\n",
    "count=0\n",
    "\n",
    "for i in fruit:\n",
    "    if i=='a':\n",
    "        count=count+1\n",
    "   \n",
    "    \n",
    "print(count)\n",
    "    \n",
    "    \n",
    "\n",
    "    \n"
   ]
  },
  {
   "cell_type": "code",
   "execution_count": 15,
   "id": "cce34c33-ed77-4eb8-9b58-685d088febda",
   "metadata": {},
   "outputs": [
    {
     "name": "stdout",
     "output_type": "stream",
     "text": [
      "hey \n",
      "python\n",
      "hey python bri\n",
      "hey python br\n",
      "hey python bri\n"
     ]
    }
   ],
   "source": [
    "atr='hey python bri'\n",
    "print(atr[0:4])\n",
    "print(atr[4:10])\n",
    "print(atr[0: ])\n",
    "print(atr[ : 13])\n",
    "print(atr[:])"
   ]
  },
  {
   "cell_type": "code",
   "execution_count": 19,
   "id": "ae068776-1b34-4b04-93db-4e2d6ddc4b0b",
   "metadata": {},
   "outputs": [
    {
     "data": {
      "text/plain": [
       "False"
      ]
     },
     "execution_count": 19,
     "metadata": {},
     "output_type": "execute_result"
    }
   ],
   "source": [
    "fruit='banana'\n",
    "'n' in fruit\n",
    "'m' in fruit\n",
    "#if 'a' in fruit:\n",
    "#print('found it!')\n"
   ]
  },
  {
   "cell_type": "code",
   "execution_count": 2,
   "id": "1c471dda-43a8-44dc-9aa3-5750b47a0300",
   "metadata": {},
   "outputs": [
    {
     "data": {
      "text/plain": [
       "['__add__',\n",
       " '__class__',\n",
       " '__contains__',\n",
       " '__delattr__',\n",
       " '__dir__',\n",
       " '__doc__',\n",
       " '__eq__',\n",
       " '__format__',\n",
       " '__ge__',\n",
       " '__getattribute__',\n",
       " '__getitem__',\n",
       " '__getnewargs__',\n",
       " '__getstate__',\n",
       " '__gt__',\n",
       " '__hash__',\n",
       " '__init__',\n",
       " '__init_subclass__',\n",
       " '__iter__',\n",
       " '__le__',\n",
       " '__len__',\n",
       " '__lt__',\n",
       " '__mod__',\n",
       " '__mul__',\n",
       " '__ne__',\n",
       " '__new__',\n",
       " '__reduce__',\n",
       " '__reduce_ex__',\n",
       " '__repr__',\n",
       " '__rmod__',\n",
       " '__rmul__',\n",
       " '__setattr__',\n",
       " '__sizeof__',\n",
       " '__str__',\n",
       " '__subclasshook__',\n",
       " 'capitalize',\n",
       " 'casefold',\n",
       " 'center',\n",
       " 'count',\n",
       " 'encode',\n",
       " 'endswith',\n",
       " 'expandtabs',\n",
       " 'find',\n",
       " 'format',\n",
       " 'format_map',\n",
       " 'index',\n",
       " 'isalnum',\n",
       " 'isalpha',\n",
       " 'isascii',\n",
       " 'isdecimal',\n",
       " 'isdigit',\n",
       " 'isidentifier',\n",
       " 'islower',\n",
       " 'isnumeric',\n",
       " 'isprintable',\n",
       " 'isspace',\n",
       " 'istitle',\n",
       " 'isupper',\n",
       " 'join',\n",
       " 'ljust',\n",
       " 'lower',\n",
       " 'lstrip',\n",
       " 'maketrans',\n",
       " 'partition',\n",
       " 'removeprefix',\n",
       " 'removesuffix',\n",
       " 'replace',\n",
       " 'rfind',\n",
       " 'rindex',\n",
       " 'rjust',\n",
       " 'rpartition',\n",
       " 'rsplit',\n",
       " 'rstrip',\n",
       " 'split',\n",
       " 'splitlines',\n",
       " 'startswith',\n",
       " 'strip',\n",
       " 'swapcase',\n",
       " 'title',\n",
       " 'translate',\n",
       " 'upper',\n",
       " 'zfill']"
      ]
     },
     "execution_count": 2,
     "metadata": {},
     "output_type": "execute_result"
    }
   ],
   "source": [
    "stuff='hello world'\n",
    "dir(stuff)\n"
   ]
  },
  {
   "cell_type": "code",
   "execution_count": 4,
   "id": "0383d92e-eef8-45e3-99a9-f5c79e795ed1",
   "metadata": {},
   "outputs": [],
   "source": [
    "import numpy as np\n"
   ]
  },
  {
   "cell_type": "code",
   "execution_count": 6,
   "id": "83b07198-b59d-44ae-8bdb-dbce2d3e4bf3",
   "metadata": {},
   "outputs": [
    {
     "name": "stdout",
     "output_type": "stream",
     "text": [
      "[1 2 3 4 5]\n",
      "2.3.2\n"
     ]
    }
   ],
   "source": [
    "arr=np.array([1,2,3,4,5])\n",
    "print(arr)\n",
    "print(np.__version__)"
   ]
  },
  {
   "cell_type": "code",
   "execution_count": 9,
   "id": "6f04c1d3-1767-4c00-bf0d-c3c81ebd1cbd",
   "metadata": {},
   "outputs": [
    {
     "name": "stdout",
     "output_type": "stream",
     "text": [
      "[[1 2 3]\n",
      " [4 5 6]]\n"
     ]
    }
   ],
   "source": [
    "arrr=np.array([[1,2,3],[4,5,6]])\n",
    "print(arrr)\n"
   ]
  },
  {
   "cell_type": "code",
   "execution_count": 14,
   "id": "84279d7b-715d-4eac-851b-04ceb760f6b0",
   "metadata": {},
   "outputs": [
    {
     "name": "stdout",
     "output_type": "stream",
     "text": [
      "0\n",
      "1\n",
      "2\n",
      "3\n"
     ]
    }
   ],
   "source": [
    "ar=np.array(22)\n",
    "arr=np.array([1,2,3,4,5])\n",
    "\n",
    "arrr=np.array([[1,2,3],[4,5,6]])\n",
    "\n",
    "arrrr=np.array([[[1,2,3],[7,8,9]],[[2,6,9],[4,5,6]]])\n",
    "print(ar.ndim)\n",
    "print(arr.ndim)\n",
    "print(arrr.ndim)\n",
    "print(arrrr.ndim)\n"
   ]
  },
  {
   "cell_type": "code",
   "execution_count": 18,
   "id": "bcebde42-a283-42d3-9aeb-0036ece4564a",
   "metadata": {},
   "outputs": [
    {
     "name": "stdout",
     "output_type": "stream",
     "text": [
      "[[[[[1 2 3 4]]]]]\n",
      "no of dimensions:  5\n"
     ]
    }
   ],
   "source": [
    "arr=np.array([1,2,3,4], ndmin=5)\n",
    "print(arr)\n",
    "print('no of dimensions: ', arr.ndim)"
   ]
  },
  {
   "cell_type": "code",
   "execution_count": 20,
   "id": "46524feb-8fc6-4bb8-a7f2-c49168232a96",
   "metadata": {},
   "outputs": [
    {
     "name": "stdout",
     "output_type": "stream",
     "text": [
      "second ele in forst row:  2\n"
     ]
    }
   ],
   "source": [
    "arrr=np.array([[1,2,3],[4,5,6]])\n",
    "print('second ele in forst row: ', arrr[0,1])"
   ]
  },
  {
   "cell_type": "code",
   "execution_count": 21,
   "id": "4d9088ae-905c-4a8c-a2ce-6b1a7becd430",
   "metadata": {},
   "outputs": [
    {
     "name": "stdout",
     "output_type": "stream",
     "text": [
      "1\n",
      "2\n",
      "3\n",
      "4\n",
      "5\n",
      "6\n",
      "7\n",
      "8\n"
     ]
    }
   ],
   "source": [
    "arr=np.array([[[1,2],[3,4]],[[5,6],[7,8]]])\n",
    "for x in np.nditer(arr):\n",
    "    print(x)"
   ]
  },
  {
   "cell_type": "code",
   "execution_count": 22,
   "id": "b93907cd-5320-4534-a54f-299d2f38ba2f",
   "metadata": {},
   "outputs": [
    {
     "name": "stdout",
     "output_type": "stream",
     "text": [
      "[1 2 3 4 5 6]\n"
     ]
    }
   ],
   "source": [
    "arr1=np.array([1,2,3])\n",
    "arr2=np.array([4,5,6])\n",
    "arr=np.concatenate((arr1,arr2))\n",
    "print(arr)"
   ]
  },
  {
   "cell_type": "code",
   "execution_count": 31,
   "id": "2b39f362-6573-4ae3-97a9-2c08d71f0116",
   "metadata": {},
   "outputs": [
    {
     "name": "stdout",
     "output_type": "stream",
     "text": [
      "(array([], dtype=int64),)\n",
      "[1 2 3 7]\n",
      "[41 43]\n"
     ]
    }
   ],
   "source": [
    "arr=np.array([1,2,3,4,5,4,4])\n",
    "x=np.where(arr==7)\n",
    "print(x)\n",
    "arr=np.array([3,2,7,1])\n",
    "print(np.sort(arr))\n",
    "arr=np.array([41,42,43,44])\n",
    "x=[True, False, True, False]\n",
    "newarr=arr[x]\n",
    "print(newarr)"
   ]
  }
 ],
 "metadata": {
  "kernelspec": {
   "display_name": "Python 3 (ipykernel)",
   "language": "python",
   "name": "python3"
  },
  "language_info": {
   "codemirror_mode": {
    "name": "ipython",
    "version": 3
   },
   "file_extension": ".py",
   "mimetype": "text/x-python",
   "name": "python",
   "nbconvert_exporter": "python",
   "pygments_lexer": "ipython3",
   "version": "3.13.5"
  }
 },
 "nbformat": 4,
 "nbformat_minor": 5
}
