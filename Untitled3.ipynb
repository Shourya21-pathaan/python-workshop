{
 "cells": [
  {
   "cell_type": "code",
   "execution_count": 12,
   "id": "b7bb2652-65cd-43fd-8cea-20fbdff16800",
   "metadata": {},
   "outputs": [
    {
     "name": "stdout",
     "output_type": "stream",
     "text": [
      "enter a line of text:\n"
     ]
    },
    {
     "name": "stdin",
     "output_type": "stream",
     "text": [
      " hey ii 233 and 567\n"
     ]
    },
    {
     "name": "stdout",
     "output_type": "stream",
     "text": [
      "words: ['hey', 'ii', '233', 'and', '567']\n",
      "counting...\n",
      "Counts {'hey': 1, 'ii': 1, '233': 1, 'and': 1, '567': 1}\n",
      "sum: 800\n",
      "concatatination: 233567\n"
     ]
    }
   ],
   "source": [
    "x=0\n",
    "      \n",
    "y=''\n",
    "\n",
    "counts=dict()\n",
    "print('enter a line of text:')\n",
    "line=input('')\n",
    "words=line.split()\n",
    "print('words:', words)\n",
    "\n",
    "print('counting...')\n",
    "for word in words:\n",
    "    counts[word] = counts.get(word,0) + 1\n",
    "print('Counts',counts)\n",
    "for word in words:\n",
    "    try:\n",
    "        \n",
    "        x+=int(word)\n",
    "        y+=str(word)\n",
    "    except:\n",
    "        pass\n",
    "print( 'sum:',x)\n",
    "print('concatatination:',y)\n"
   ]
  },
  {
   "cell_type": "code",
   "execution_count": null,
   "id": "bf2548c9-ec6a-4ded-a01e-f00ea603b539",
   "metadata": {},
   "outputs": [],
   "source": []
  }
 ],
 "metadata": {
  "kernelspec": {
   "display_name": "Python 3 (ipykernel)",
   "language": "python",
   "name": "python3"
  },
  "language_info": {
   "codemirror_mode": {
    "name": "ipython",
    "version": 3
   },
   "file_extension": ".py",
   "mimetype": "text/x-python",
   "name": "python",
   "nbconvert_exporter": "python",
   "pygments_lexer": "ipython3",
   "version": "3.13.5"
  }
 },
 "nbformat": 4,
 "nbformat_minor": 5
}
