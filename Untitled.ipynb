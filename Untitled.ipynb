{
 "cells": [
  {
   "cell_type": "markdown",
   "id": "8814d611-25b4-410f-b62d-eb1093d3ad84",
   "metadata": {},
   "source": [
    "# My first python prorgam"
   ]
  },
  {
   "cell_type": "markdown",
   "id": "4cd838f5-f333-41e8-9031-583cbc652177",
   "metadata": {},
   "source": [
    "## My first python program"
   ]
  },
  {
   "cell_type": "markdown",
   "id": "10287f71-8776-4255-8f00-f700d697d5d6",
   "metadata": {},
   "source": [
    "### My first python program"
   ]
  },
  {
   "cell_type": "markdown",
   "id": "5140cf5f-b958-48c7-9bff-636bb463cbe5",
   "metadata": {},
   "source": [
    "#### My first python program"
   ]
  },
  {
   "cell_type": "code",
   "execution_count": 5,
   "id": "22901531-866f-49cd-81f4-ee0091f5c980",
   "metadata": {},
   "outputs": [],
   "source": [
    "# hrllo gkjehgh nkjdhf kjnk vjojh "
   ]
  },
  {
   "cell_type": "markdown",
   "id": "4ee960e2-3566-4a01-ac4e-be37013493ce",
   "metadata": {},
   "source": [
    "## basic math ops"
   ]
  },
  {
   "cell_type": "code",
   "execution_count": 9,
   "id": "f806d71e-994d-4353-92ae-590e50170ebf",
   "metadata": {},
   "outputs": [
    {
     "name": "stdout",
     "output_type": "stream",
     "text": [
      "55\n",
      "-5\n",
      "867361737988403547205962240695953369140625\n"
     ]
    }
   ],
   "source": [
    "a=25\n",
    "b=30\n",
    "c=a+b\n",
    "print(c)\n",
    "print(a-b)\n",
    "print(a**b)\n",
    "\n"
   ]
  },
  {
   "cell_type": "code",
   "execution_count": null,
   "id": "a1db9c30-d6ab-4b22-bb30-b658222c0b55",
   "metadata": {},
   "outputs": [],
   "source": [
    "del del False"
   ]
  },
  {
   "cell_type": "code",
   "execution_count": 13,
   "id": "4528bfa7-6455-494e-9807-6d179575c26b",
   "metadata": {},
   "outputs": [
    {
     "name": "stdout",
     "output_type": "stream",
     "text": [
      "hellothere\n"
     ]
    }
   ],
   "source": [
    "eee ='hello' + 'there'\n",
    "print(eee)"
   ]
  },
  {
   "cell_type": "code",
   "execution_count": 15,
   "id": "cceb51b7-b260-42f8-b6f7-5bca9dc54aef",
   "metadata": {},
   "outputs": [
    {
     "data": {
      "text/plain": [
       "str"
      ]
     },
     "execution_count": 15,
     "metadata": {},
     "output_type": "execute_result"
    }
   ],
   "source": [
    "type(eee)\n"
   ]
  },
  {
   "cell_type": "code",
   "execution_count": 17,
   "id": "98f42be6-fa6b-42d1-9bd8-1efe5cd40dae",
   "metadata": {},
   "outputs": [
    {
     "data": {
      "text/plain": [
       "int"
      ]
     },
     "execution_count": 17,
     "metadata": {},
     "output_type": "execute_result"
    }
   ],
   "source": [
    "type(1)"
   ]
  },
  {
   "cell_type": "code",
   "execution_count": null,
   "id": "28184f31-5a6f-4615-b441-1c1c52c46b00",
   "metadata": {},
   "outputs": [],
   "source": [
    "nam = input('who are you')\n",
    "print('welcome', nam)\n"
   ]
  },
  {
   "cell_type": "code",
   "execution_count": 1,
   "id": "fe584820-83dc-4106-a6ec-ec2093e5ec14",
   "metadata": {},
   "outputs": [
    {
     "name": "stdout",
     "output_type": "stream",
     "text": [
      "smaller\n",
      "finish\n"
     ]
    }
   ],
   "source": [
    "x=5\n",
    "if x<10:\n",
    "    print('smaller')\n",
    "if x>20:\n",
    "    print('bigger')\n",
    "\n",
    "print('finish')\n"
   ]
  },
  {
   "cell_type": "code",
   "execution_count": 4,
   "id": "5475b6c4-d0b8-43db-9c9b-4a123fd8abff",
   "metadata": {},
   "outputs": [
    {
     "name": "stdout",
     "output_type": "stream",
     "text": [
      "equal 5\n",
      "greater than 4\n",
      "greater tha or equal to 5\n",
      "lesses than 6\n",
      "lesses tha or equals 5\n",
      "not equal 6\n"
     ]
    }
   ],
   "source": [
    "if x==5:\n",
    "    print('equal 5')\n",
    "\n",
    "if x>4:\n",
    "    print('greater than 4')\n",
    "if x>=5:\n",
    "    print('greater tha or equal to 5')\n",
    "if x<6:\n",
    "    print('lesses than 6')\n",
    "if x<=5:\n",
    "    print('lesses tha or equals 5')\n",
    "if x!=6:\n",
    "    print('not equal 6')\n",
    "          \n",
    "    \n"
   ]
  },
  {
   "cell_type": "code",
   "execution_count": 5,
   "id": "6b337092-0861-4b35-8cb7-cf573b809cfd",
   "metadata": {},
   "outputs": [
    {
     "name": "stdout",
     "output_type": "stream",
     "text": [
      "before 5\n",
      "is 5\n",
      " is still 5\n",
      "third 5\n",
      "afterwards 5\n",
      "before 5\n",
      "aferwards 6\n"
     ]
    }
   ],
   "source": [
    "print('before 5')\n",
    "if x==5:\n",
    "    print('is 5')\n",
    "    print(' is still 5')\n",
    "    print('third 5')\n",
    "print ('afterwards 5')\n",
    "print('before 5')\n",
    "if x==6:\n",
    "    print('is 6')\n",
    "    print('is still 6')\n",
    "    print('third 6')\n",
    "print('aferwards 6')\n"
   ]
  },
  {
   "cell_type": "code",
   "execution_count": 8,
   "id": "0bab2a23-abe9-4852-8276-f0b1adb8618f",
   "metadata": {},
   "outputs": [
    {
     "name": "stdout",
     "output_type": "stream",
     "text": [
      "medium\n",
      "all done\n"
     ]
    }
   ],
   "source": [
    "x=5\n",
    "if x<2:\n",
    "    print('small')\n",
    "elif x<10:\n",
    "    print('medium')\n",
    "else: \n",
    "    print('LARGE')\n",
    "print('all done')\n"
   ]
  },
  {
   "cell_type": "code",
   "execution_count": 13,
   "id": "02c69547-93df-4bd7-9df2-b9218bcdec2e",
   "metadata": {},
   "outputs": [
    {
     "name": "stdout",
     "output_type": "stream",
     "text": [
      "first -1\n",
      "second 123\n"
     ]
    }
   ],
   "source": [
    "\n",
    "astr=('hello bob')\n",
    "try:\n",
    "    istr=int(astr)\n",
    "except: \n",
    "    istr=-1\n",
    "print('first',istr)\n",
    "astr='123'\n",
    "try:\n",
    "    istr = int(astr)\n",
    "except:\n",
    "    istr=-1\n",
    "print('second', istr)\n"
   ]
  },
  {
   "cell_type": "code",
   "execution_count": 14,
   "id": "8a9efa38-41b0-4ec6-8117-b1a4f7e0baa8",
   "metadata": {},
   "outputs": [
    {
     "name": "stdout",
     "output_type": "stream",
     "text": [
      "hello\n",
      "done -1\n"
     ]
    }
   ],
   "source": [
    "astr = ('bob')\n",
    "try:\n",
    "    print('hello')\n",
    "    istr=int(astr)\n",
    "    print('there')\n",
    "except:\n",
    "    istr= -1\n",
    "print('done', istr)\n",
    "\n",
    "    "
   ]
  },
  {
   "cell_type": "code",
   "execution_count": 17,
   "id": "5106ab38-75ca-4798-b6b1-217bc37eca2d",
   "metadata": {},
   "outputs": [
    {
     "name": "stdin",
     "output_type": "stream",
     "text": [
      "enter a number:  23\n"
     ]
    },
    {
     "name": "stdout",
     "output_type": "stream",
     "text": [
      "nice work\n"
     ]
    }
   ],
   "source": [
    "rawstr= input('enter a number: ')\n",
    "try:\n",
    "    ival = int(rawstr)\n",
    "except:\n",
    "    ival = -1\n",
    "if ival>0:\n",
    "    print('nice work')\n",
    "else: \n",
    "    print('not a no')\n",
    "    \n"
   ]
  },
  {
   "cell_type": "code",
   "execution_count": 20,
   "id": "08915845-2ecb-4493-8663-8e48053f69ab",
   "metadata": {},
   "outputs": [
    {
     "name": "stdin",
     "output_type": "stream",
     "text": [
      "enter hours 40\n"
     ]
    },
    {
     "name": "stdout",
     "output_type": "stream",
     "text": [
      "40\n"
     ]
    },
    {
     "name": "stdin",
     "output_type": "stream",
     "text": [
      "enter rate twp\n"
     ]
    },
    {
     "name": "stdout",
     "output_type": "stream",
     "text": [
      "error\n"
     ]
    }
   ],
   "source": [
    "alpha= input('enter hours')\n",
    "try:\n",
    "    beta= int(alpha)\n",
    "    print(alpha)\n",
    "except: \n",
    "    beta=-1\n",
    "    print('error')\n",
    "ogg= input('enter rate')\n",
    "try:\n",
    "    bobb= int(ogg)\n",
    "    print(ogg)\n",
    "except: \n",
    "    bobb=-1\n",
    "    print('error')\n",
    "    \n",
    "    \n"
   ]
  },
  {
   "cell_type": "code",
   "execution_count": null,
   "id": "81c1d761-cef6-49c0-bbce-2e2b27d3b126",
   "metadata": {},
   "outputs": [],
   "source": []
  }
 ],
 "metadata": {
  "kernelspec": {
   "display_name": "Python 3 (ipykernel)",
   "language": "python",
   "name": "python3"
  },
  "language_info": {
   "codemirror_mode": {
    "name": "ipython",
    "version": 3
   },
   "file_extension": ".py",
   "mimetype": "text/x-python",
   "name": "python",
   "nbconvert_exporter": "python",
   "pygments_lexer": "ipython3",
   "version": "3.13.5"
  }
 },
 "nbformat": 4,
 "nbformat_minor": 5
}
